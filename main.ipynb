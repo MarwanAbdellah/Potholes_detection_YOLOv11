{
  "cells": [
    {
      "cell_type": "code",
      "execution_count": null,
      "metadata": {},
      "outputs": [],
      "source": [
        "# !pip install ultralytics\n",
        "# !pip install PIL\n",
        "# !pip install roboflow\n",
        "# !pip install torch torchvision torchaudio --index-url https://download.pytorch.org/whl/cu118"
      ]
    },
    {
      "cell_type": "markdown",
      "metadata": {
        "id": "WGKXqyExYxAV"
      },
      "source": [
        "# Importing Libraries"
      ]
    },
    {
      "cell_type": "code",
      "execution_count": null,
      "metadata": {
        "id": "gy7eE6pSYv9l"
      },
      "outputs": [],
      "source": [
        "import torch\n",
        "import torchvision\n",
        "from ultralytics import YOLO\n",
        "from roboflow import Roboflow\n",
        "from PIL import Image"
      ]
    },
    {
      "cell_type": "code",
      "execution_count": null,
      "metadata": {},
      "outputs": [],
      "source": [
        "print(\"Torch:\", torch.__version__)\n",
        "print(\"Torchvision:\", torchvision.__version__)\n",
        "print(\"CUDA available:\", torch.cuda.is_available())\n"
      ]
    },
    {
      "cell_type": "code",
      "execution_count": null,
      "metadata": {},
      "outputs": [],
      "source": [
        "device = 'cuda' if torch.cuda.is_available() else 'cpu'\n",
        "print(\"Using device:\", device)"
      ]
    },
    {
      "cell_type": "markdown",
      "metadata": {
        "id": "SZEjA57RbF-p"
      },
      "source": [
        "# Importing our data"
      ]
    },
    {
      "cell_type": "code",
      "execution_count": null,
      "metadata": {
        "colab": {
          "base_uri": "https://localhost:8080/"
        },
        "id": "U5D_IJuAY9lD",
        "outputId": "d70b1ff9-4eb8-46f1-e4b6-c63a8f298767"
      },
      "outputs": [],
      "source": [
        "rf = Roboflow(api_key=\"your_api_key_here\") # Replace with your actual API key\n",
        "project = rf.workspace(\"your_workplace_here\").project(\"potholes-detect-uytky-k2rbm\")    # Replace with your actual workspace and project names\n",
        "version = project.version(1)\n",
        "dataset = version.download(\"yolov11\")\n"
      ]
    },
    {
      "cell_type": "markdown",
      "metadata": {
        "id": "bpEq106JbJfb"
      },
      "source": [
        "# Identifying our model"
      ]
    },
    {
      "cell_type": "code",
      "execution_count": null,
      "metadata": {},
      "outputs": [],
      "source": [
        "epochs_num = 64\n",
        "img_sz = 640\n",
        "data_path = 'potholes-detect-1/data.yaml'"
      ]
    },
    {
      "cell_type": "markdown",
      "metadata": {
        "id": "H8Kg0693bMZk"
      },
      "source": [
        "## Yolov11 Medium"
      ]
    },
    {
      "cell_type": "code",
      "execution_count": null,
      "metadata": {
        "id": "MEihKTambLdZ"
      },
      "outputs": [],
      "source": [
        "model = YOLO(\"yolo11m.pt\")"
      ]
    },
    {
      "cell_type": "markdown",
      "metadata": {
        "id": "rGUzDYLuba6s"
      },
      "source": [
        "### Training using our specially augmented data imported from roboflow"
      ]
    },
    {
      "cell_type": "code",
      "execution_count": null,
      "metadata": {
        "colab": {
          "base_uri": "https://localhost:8080/"
        },
        "id": "xRpUobV1bXUv",
        "outputId": "23c0c69c-9009-487c-c1b7-b2abe88cec74"
      },
      "outputs": [],
      "source": [
        "model.train(data = data_path , epochs = epochs_num, imgsz=img_sz)"
      ]
    },
    {
      "cell_type": "markdown",
      "metadata": {
        "id": "Eu9IFC-sqYBD"
      },
      "source": [
        "## Yolov11 Large"
      ]
    },
    {
      "cell_type": "code",
      "execution_count": null,
      "metadata": {
        "colab": {
          "base_uri": "https://localhost:8080/"
        },
        "id": "_f0enLsWqfi2",
        "outputId": "4253c9b7-6170-4167-87e1-5e2b504b800d"
      },
      "outputs": [],
      "source": [
        "model_large = YOLO(\"yolo11l.pt\")"
      ]
    },
    {
      "cell_type": "markdown",
      "metadata": {
        "id": "x4tAVE_XqbaH"
      },
      "source": [
        "### Training our model"
      ]
    },
    {
      "cell_type": "code",
      "execution_count": null,
      "metadata": {
        "colab": {
          "base_uri": "https://localhost:8080/"
        },
        "id": "LTefaHgRqamx",
        "outputId": "332cb64f-8fb0-4040-eef8-7bfdc37453a3"
      },
      "outputs": [],
      "source": [
        "model_large.train(data= data_path, epochs = epochs_num, imgsz = img_sz)"
      ]
    }
  ],
  "metadata": {
    "accelerator": "GPU",
    "colab": {
      "gpuType": "T4",
      "provenance": []
    },
    "kernelspec": {
      "display_name": "Yolov11",
      "language": "python",
      "name": "python3"
    },
    "language_info": {
      "codemirror_mode": {
        "name": "ipython",
        "version": 3
      },
      "file_extension": ".py",
      "mimetype": "text/x-python",
      "name": "python",
      "nbconvert_exporter": "python",
      "pygments_lexer": "ipython3",
      "version": "3.11.11"
    }
  },
  "nbformat": 4,
  "nbformat_minor": 0
}
